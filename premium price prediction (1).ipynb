{
 "cells": [
  {
   "cell_type": "code",
   "execution_count": 2,
   "id": "872d2c74",
   "metadata": {},
   "outputs": [
    {
     "name": "stderr",
     "output_type": "stream",
     "text": [
      "C:\\Users\\Gaurav Siwal\\anaconda3\\lib\\site-packages\\scipy\\__init__.py:146: UserWarning: A NumPy version >=1.16.5 and <1.23.0 is required for this version of SciPy (detected version 1.26.2\n",
      "  warnings.warn(f\"A NumPy version >={np_minversion} and <{np_maxversion}\"\n"
     ]
    }
   ],
   "source": [
    "import numpy as np\n",
    "import pandas as pd\n",
    "\n",
    "import statsmodels.formula.api as sfa\n",
    "import statsmodels.api as sma\n",
    "from statsmodels.stats.outliers_influence import variance_inflation_factor\n",
    "from statsmodels.stats.diagnostic import linear_rainbow\n",
    "import scipy.stats as stats\n",
    "\n",
    "from sklearn.metrics import r2_score,mean_squared_error,mean_absolute_error,mean_absolute_percentage_error\n",
    "from sklearn.model_selection import train_test_split\n",
    "\n",
    "from mlxtend.feature_selection import SequentialFeatureSelector\n",
    "from sklearn.feature_selection import RFE, RFECV\n",
    "from sklearn.linear_model import LinearRegression\n",
    "\n",
    "import seaborn as sns\n",
    "import matplotlib.pyplot as plt\n",
    "\n",
    "import pickle"
   ]
  },
  {
   "cell_type": "markdown",
   "id": "1c1ee870",
   "metadata": {},
   "source": [
    "### Data Description"
   ]
  },
  {
   "cell_type": "code",
   "execution_count": 3,
   "id": "e3e78c6b",
   "metadata": {},
   "outputs": [],
   "source": [
    "# Lets read the dataset\n",
    "\n",
    "data = pd.read_csv('Medicalpremium.csv')"
   ]
  },
  {
   "cell_type": "code",
   "execution_count": 4,
   "id": "d4849f0d",
   "metadata": {},
   "outputs": [
    {
     "name": "stdout",
     "output_type": "stream",
     "text": [
      "<class 'pandas.core.frame.DataFrame'>\n",
      "RangeIndex: 986 entries, 0 to 985\n",
      "Data columns (total 11 columns):\n",
      " #   Column                   Non-Null Count  Dtype\n",
      "---  ------                   --------------  -----\n",
      " 0   Age                      986 non-null    int64\n",
      " 1   Diabetes                 986 non-null    int64\n",
      " 2   BloodPressureProblems    986 non-null    int64\n",
      " 3   AnyTransplants           986 non-null    int64\n",
      " 4   AnyChronicDiseases       986 non-null    int64\n",
      " 5   Height                   986 non-null    int64\n",
      " 6   Weight                   986 non-null    int64\n",
      " 7   KnownAllergies           986 non-null    int64\n",
      " 8   HistoryOfCancerInFamily  986 non-null    int64\n",
      " 9   NumberOfMajorSurgeries   986 non-null    int64\n",
      " 10  PremiumPrice             986 non-null    int64\n",
      "dtypes: int64(11)\n",
      "memory usage: 84.9 KB\n"
     ]
    }
   ],
   "source": [
    "# A breif description about data\n",
    "\n",
    "data.info()"
   ]
  },
  {
   "cell_type": "code",
   "execution_count": 5,
   "id": "f9ac46b0",
   "metadata": {},
   "outputs": [
    {
     "data": {
      "text/html": [
       "<div>\n",
       "<style scoped>\n",
       "    .dataframe tbody tr th:only-of-type {\n",
       "        vertical-align: middle;\n",
       "    }\n",
       "\n",
       "    .dataframe tbody tr th {\n",
       "        vertical-align: top;\n",
       "    }\n",
       "\n",
       "    .dataframe thead th {\n",
       "        text-align: right;\n",
       "    }\n",
       "</style>\n",
       "<table border=\"1\" class=\"dataframe\">\n",
       "  <thead>\n",
       "    <tr style=\"text-align: right;\">\n",
       "      <th></th>\n",
       "      <th>count</th>\n",
       "      <th>mean</th>\n",
       "      <th>std</th>\n",
       "      <th>min</th>\n",
       "      <th>25%</th>\n",
       "      <th>50%</th>\n",
       "      <th>75%</th>\n",
       "      <th>max</th>\n",
       "    </tr>\n",
       "  </thead>\n",
       "  <tbody>\n",
       "    <tr>\n",
       "      <th>Age</th>\n",
       "      <td>986.0</td>\n",
       "      <td>41.745436</td>\n",
       "      <td>13.963371</td>\n",
       "      <td>18.0</td>\n",
       "      <td>30.0</td>\n",
       "      <td>42.0</td>\n",
       "      <td>53.0</td>\n",
       "      <td>66.0</td>\n",
       "    </tr>\n",
       "    <tr>\n",
       "      <th>Diabetes</th>\n",
       "      <td>986.0</td>\n",
       "      <td>0.419878</td>\n",
       "      <td>0.493789</td>\n",
       "      <td>0.0</td>\n",
       "      <td>0.0</td>\n",
       "      <td>0.0</td>\n",
       "      <td>1.0</td>\n",
       "      <td>1.0</td>\n",
       "    </tr>\n",
       "    <tr>\n",
       "      <th>BloodPressureProblems</th>\n",
       "      <td>986.0</td>\n",
       "      <td>0.468560</td>\n",
       "      <td>0.499264</td>\n",
       "      <td>0.0</td>\n",
       "      <td>0.0</td>\n",
       "      <td>0.0</td>\n",
       "      <td>1.0</td>\n",
       "      <td>1.0</td>\n",
       "    </tr>\n",
       "    <tr>\n",
       "      <th>AnyTransplants</th>\n",
       "      <td>986.0</td>\n",
       "      <td>0.055781</td>\n",
       "      <td>0.229615</td>\n",
       "      <td>0.0</td>\n",
       "      <td>0.0</td>\n",
       "      <td>0.0</td>\n",
       "      <td>0.0</td>\n",
       "      <td>1.0</td>\n",
       "    </tr>\n",
       "    <tr>\n",
       "      <th>AnyChronicDiseases</th>\n",
       "      <td>986.0</td>\n",
       "      <td>0.180527</td>\n",
       "      <td>0.384821</td>\n",
       "      <td>0.0</td>\n",
       "      <td>0.0</td>\n",
       "      <td>0.0</td>\n",
       "      <td>0.0</td>\n",
       "      <td>1.0</td>\n",
       "    </tr>\n",
       "    <tr>\n",
       "      <th>Height</th>\n",
       "      <td>986.0</td>\n",
       "      <td>168.182556</td>\n",
       "      <td>10.098155</td>\n",
       "      <td>145.0</td>\n",
       "      <td>161.0</td>\n",
       "      <td>168.0</td>\n",
       "      <td>176.0</td>\n",
       "      <td>188.0</td>\n",
       "    </tr>\n",
       "    <tr>\n",
       "      <th>Weight</th>\n",
       "      <td>986.0</td>\n",
       "      <td>76.950304</td>\n",
       "      <td>14.265096</td>\n",
       "      <td>51.0</td>\n",
       "      <td>67.0</td>\n",
       "      <td>75.0</td>\n",
       "      <td>87.0</td>\n",
       "      <td>132.0</td>\n",
       "    </tr>\n",
       "    <tr>\n",
       "      <th>KnownAllergies</th>\n",
       "      <td>986.0</td>\n",
       "      <td>0.215010</td>\n",
       "      <td>0.411038</td>\n",
       "      <td>0.0</td>\n",
       "      <td>0.0</td>\n",
       "      <td>0.0</td>\n",
       "      <td>0.0</td>\n",
       "      <td>1.0</td>\n",
       "    </tr>\n",
       "    <tr>\n",
       "      <th>HistoryOfCancerInFamily</th>\n",
       "      <td>986.0</td>\n",
       "      <td>0.117647</td>\n",
       "      <td>0.322353</td>\n",
       "      <td>0.0</td>\n",
       "      <td>0.0</td>\n",
       "      <td>0.0</td>\n",
       "      <td>0.0</td>\n",
       "      <td>1.0</td>\n",
       "    </tr>\n",
       "    <tr>\n",
       "      <th>NumberOfMajorSurgeries</th>\n",
       "      <td>986.0</td>\n",
       "      <td>0.667343</td>\n",
       "      <td>0.749205</td>\n",
       "      <td>0.0</td>\n",
       "      <td>0.0</td>\n",
       "      <td>1.0</td>\n",
       "      <td>1.0</td>\n",
       "      <td>3.0</td>\n",
       "    </tr>\n",
       "    <tr>\n",
       "      <th>PremiumPrice</th>\n",
       "      <td>986.0</td>\n",
       "      <td>24336.713996</td>\n",
       "      <td>6248.184382</td>\n",
       "      <td>15000.0</td>\n",
       "      <td>21000.0</td>\n",
       "      <td>23000.0</td>\n",
       "      <td>28000.0</td>\n",
       "      <td>40000.0</td>\n",
       "    </tr>\n",
       "  </tbody>\n",
       "</table>\n",
       "</div>"
      ],
      "text/plain": [
       "                         count          mean          std      min      25%   \n",
       "Age                      986.0     41.745436    13.963371     18.0     30.0  \\\n",
       "Diabetes                 986.0      0.419878     0.493789      0.0      0.0   \n",
       "BloodPressureProblems    986.0      0.468560     0.499264      0.0      0.0   \n",
       "AnyTransplants           986.0      0.055781     0.229615      0.0      0.0   \n",
       "AnyChronicDiseases       986.0      0.180527     0.384821      0.0      0.0   \n",
       "Height                   986.0    168.182556    10.098155    145.0    161.0   \n",
       "Weight                   986.0     76.950304    14.265096     51.0     67.0   \n",
       "KnownAllergies           986.0      0.215010     0.411038      0.0      0.0   \n",
       "HistoryOfCancerInFamily  986.0      0.117647     0.322353      0.0      0.0   \n",
       "NumberOfMajorSurgeries   986.0      0.667343     0.749205      0.0      0.0   \n",
       "PremiumPrice             986.0  24336.713996  6248.184382  15000.0  21000.0   \n",
       "\n",
       "                             50%      75%      max  \n",
       "Age                         42.0     53.0     66.0  \n",
       "Diabetes                     0.0      1.0      1.0  \n",
       "BloodPressureProblems        0.0      1.0      1.0  \n",
       "AnyTransplants               0.0      0.0      1.0  \n",
       "AnyChronicDiseases           0.0      0.0      1.0  \n",
       "Height                     168.0    176.0    188.0  \n",
       "Weight                      75.0     87.0    132.0  \n",
       "KnownAllergies               0.0      0.0      1.0  \n",
       "HistoryOfCancerInFamily      0.0      0.0      1.0  \n",
       "NumberOfMajorSurgeries       1.0      1.0      3.0  \n",
       "PremiumPrice             23000.0  28000.0  40000.0  "
      ]
     },
     "execution_count": 5,
     "metadata": {},
     "output_type": "execute_result"
    }
   ],
   "source": [
    "data.describe().T"
   ]
  },
  {
   "cell_type": "markdown",
   "id": "da85e583",
   "metadata": {},
   "source": [
    "### Bivariate Analysis"
   ]
  },
  {
   "cell_type": "code",
   "execution_count": 6,
   "id": "fe86f823",
   "metadata": {},
   "outputs": [
    {
     "data": {
      "image/png": "[encoded data removed]",
      "text/plain": [
       "<Figure size 936x936 with 10 Axes>"
      ]
     },
     "metadata": {
      "needs_background": "light"
     },
     "output_type": "display_data"
    }
   ],
   "source": [
    "t = 1\n",
    "plt.figure(figsize=(13,13))\n",
    "for i in data.columns:\n",
    "    if i!='PremiumPrice':\n",
    "        plt.subplot(5,2,t)\n",
    "        sns.scatterplot(x=data[i],y=data['PremiumPrice'])\n",
    "        t+=1\n",
    "plt.tight_layout()\n",
    "plt.show()"
   ]
  },
  {
   "cell_type": "code",
   "execution_count": 7,
   "id": "9e255bc2",
   "metadata": {},
   "outputs": [
    {
     "data": {
      "text/plain": [
       "<Axes: >"
      ]
     },
     "execution_count": 7,
     "metadata": {},
     "output_type": "execute_result"
    },
    {
     "data": {
      "image/png": "[encoded data removed]",
      "text/plain": [
       "<Figure size 936x936 with 2 Axes>"
      ]
     },
     "metadata": {
      "needs_background": "light"
     },
     "output_type": "display_data"
    }
   ],
   "source": [
    "plt.figure(figsize=(13,13))\n",
    "sns.heatmap(data.corr(),vmax=1,vmin=-1,cmap='RdBu',annot=True,mask=np.triu(data.corr()))"
   ]
  },
  {
   "cell_type": "markdown",
   "id": "ddbbd147",
   "metadata": {},
   "source": [
    "## Removing defects from dataset"
   ]
  },
  {
   "cell_type": "code",
   "execution_count": 8,
   "id": "e38e7b70",
   "metadata": {},
   "outputs": [
    {
     "data": {
      "image/png": "[encoded data removed]",
      "text/plain": [
       "<Figure size 936x936 with 11 Axes>"
      ]
     },
     "metadata": {
      "needs_background": "light"
     },
     "output_type": "display_data"
    }
   ],
   "source": [
    "# Outliers\n",
    "t = 1\n",
    "plt.figure(figsize=(13,13))\n",
    "for i in data.columns:\n",
    "    plt.subplot(6,2,t)\n",
    "    plt.title(i)\n",
    "    sns.boxplot(data[i],orient='h')\n",
    "    t+=1\n",
    "plt.tight_layout()\n",
    "plt.show()"
   ]
  },
  {
   "cell_type": "code",
   "execution_count": null,
   "id": "3fc00f9d",
   "metadata": {},
   "outputs": [],
   "source": []
  },
  {
   "cell_type": "markdown",
   "id": "d4a8f0ce",
   "metadata": {},
   "source": [
    "### Building a base mode"
   ]
  },
  {
   "cell_type": "code",
   "execution_count": 83,
   "id": "b503730d",
   "metadata": {},
   "outputs": [
    {
     "data": {
      "text/html": [
       "<table class=\"simpletable\">\n",
       "<caption>OLS Regression Results</caption>\n",
       "<tr>\n",
       "  <th>Dep. Variable:</th>      <td>PremiumPrice</td>   <th>  R-squared:         </th> <td>   0.643</td> \n",
       "</tr>\n",
       "<tr>\n",
       "  <th>Model:</th>                   <td>OLS</td>       <th>  Adj. R-squared:    </th> <td>   0.639</td> \n",
       "</tr>\n",
       "<tr>\n",
       "  <th>Method:</th>             <td>Least Squares</td>  <th>  F-statistic:       </th> <td>   175.5</td> \n",
       "</tr>\n",
       "<tr>\n",
       "  <th>Date:</th>             <td>Mon, 27 Nov 2023</td> <th>  Prob (F-statistic):</th> <td>3.92e-210</td>\n",
       "</tr>\n",
       "<tr>\n",
       "  <th>Time:</th>                 <td>22:49:16</td>     <th>  Log-Likelihood:    </th> <td> -9508.6</td> \n",
       "</tr>\n",
       "<tr>\n",
       "  <th>No. Observations:</th>      <td>   986</td>      <th>  AIC:               </th> <td>1.904e+04</td>\n",
       "</tr>\n",
       "<tr>\n",
       "  <th>Df Residuals:</th>          <td>   975</td>      <th>  BIC:               </th> <td>1.909e+04</td>\n",
       "</tr>\n",
       "<tr>\n",
       "  <th>Df Model:</th>              <td>    10</td>      <th>                     </th>     <td> </td>    \n",
       "</tr>\n",
       "<tr>\n",
       "  <th>Covariance Type:</th>      <td>nonrobust</td>    <th>                     </th>     <td> </td>    \n",
       "</tr>\n",
       "</table>\n",
       "<table class=\"simpletable\">\n",
       "<tr>\n",
       "             <td></td>                <th>coef</th>     <th>std err</th>      <th>t</th>      <th>P>|t|</th>  <th>[0.025</th>    <th>0.975]</th>  \n",
       "</tr>\n",
       "<tr>\n",
       "  <th>const</th>                   <td> 5480.6098</td> <td> 2095.294</td> <td>    2.616</td> <td> 0.009</td> <td> 1368.804</td> <td> 9592.416</td>\n",
       "</tr>\n",
       "<tr>\n",
       "  <th>Age</th>                     <td>  329.3671</td> <td>    9.839</td> <td>   33.474</td> <td> 0.000</td> <td>  310.058</td> <td>  348.676</td>\n",
       "</tr>\n",
       "<tr>\n",
       "  <th>Diabetes</th>                <td> -429.1198</td> <td>  251.419</td> <td>   -1.707</td> <td> 0.088</td> <td> -922.505</td> <td>   64.266</td>\n",
       "</tr>\n",
       "<tr>\n",
       "  <th>BloodPressureProblems</th>   <td>  180.5036</td> <td>  252.421</td> <td>    0.715</td> <td> 0.475</td> <td> -314.847</td> <td>  675.854</td>\n",
       "</tr>\n",
       "<tr>\n",
       "  <th>AnyTransplants</th>          <td> 7894.2013</td> <td>  521.963</td> <td>   15.124</td> <td> 0.000</td> <td> 6869.902</td> <td> 8918.501</td>\n",
       "</tr>\n",
       "<tr>\n",
       "  <th>AnyChronicDiseases</th>      <td> 2654.8864</td> <td>  313.990</td> <td>    8.455</td> <td> 0.000</td> <td> 2038.713</td> <td> 3271.060</td>\n",
       "</tr>\n",
       "<tr>\n",
       "  <th>Height</th>                  <td>   -5.8219</td> <td>   11.919</td> <td>   -0.488</td> <td> 0.625</td> <td>  -29.212</td> <td>   17.569</td>\n",
       "</tr>\n",
       "<tr>\n",
       "  <th>Weight</th>                  <td>   69.6753</td> <td>    8.428</td> <td>    8.267</td> <td> 0.000</td> <td>   53.137</td> <td>   86.214</td>\n",
       "</tr>\n",
       "<tr>\n",
       "  <th>KnownAllergies</th>          <td>  300.8824</td> <td>  295.796</td> <td>    1.017</td> <td> 0.309</td> <td> -279.587</td> <td>  881.352</td>\n",
       "</tr>\n",
       "<tr>\n",
       "  <th>HistoryOfCancerInFamily</th> <td> 2311.8294</td> <td>  385.373</td> <td>    5.999</td> <td> 0.000</td> <td> 1555.572</td> <td> 3068.086</td>\n",
       "</tr>\n",
       "<tr>\n",
       "  <th>NumberOfMajorSurgeries</th>  <td> -654.1862</td> <td>  186.103</td> <td>   -3.515</td> <td> 0.000</td> <td>-1019.395</td> <td> -288.977</td>\n",
       "</tr>\n",
       "</table>\n",
       "<table class=\"simpletable\">\n",
       "<tr>\n",
       "  <th>Omnibus:</th>       <td>238.003</td> <th>  Durbin-Watson:     </th> <td>   1.996</td> \n",
       "</tr>\n",
       "<tr>\n",
       "  <th>Prob(Omnibus):</th> <td> 0.000</td>  <th>  Jarque-Bera (JB):  </th> <td>1342.106</td> \n",
       "</tr>\n",
       "<tr>\n",
       "  <th>Skew:</th>          <td> 0.981</td>  <th>  Prob(JB):          </th> <td>3.68e-292</td>\n",
       "</tr>\n",
       "<tr>\n",
       "  <th>Kurtosis:</th>      <td> 8.368</td>  <th>  Cond. No.          </th> <td>3.33e+03</td> \n",
       "</tr>\n",
       "</table><br/><br/>Notes:<br/>[1] Standard Errors assume that the covariance matrix of the errors is correctly specified.<br/>[2] The condition number is large, 3.33e+03. This might indicate that there are<br/>strong multicollinearity or other numerical problems."
      ],
      "text/plain": [
       "<class 'statsmodels.iolib.summary.Summary'>\n",
       "\"\"\"\n",
       "                            OLS Regression Results                            \n",
       "==============================================================================\n",
       "Dep. Variable:           PremiumPrice   R-squared:                       0.643\n",
       "Model:                            OLS   Adj. R-squared:                  0.639\n",
       "Method:                 Least Squares   F-statistic:                     175.5\n",
       "Date:                Mon, 27 Nov 2023   Prob (F-statistic):          3.92e-210\n",
       "Time:                        22:49:16   Log-Likelihood:                -9508.6\n",
       "No. Observations:                 986   AIC:                         1.904e+04\n",
       "Df Residuals:                     975   BIC:                         1.909e+04\n",
       "Df Model:                          10                                         \n",
       "Covariance Type:            nonrobust                                         \n",
       "===========================================================================================\n",
       "                              coef    std err          t      P>|t|      [0.025      0.975]\n",
       "-------------------------------------------------------------------------------------------\n",
       "const                    5480.6098   2095.294      2.616      0.009    1368.804    9592.416\n",
       "Age                       329.3671      9.839     33.474      0.000     310.058     348.676\n",
       "Diabetes                 -429.1198    251.419     -1.707      0.088    -922.505      64.266\n",
       "BloodPressureProblems     180.5036    252.421      0.715      0.475    -314.847     675.854\n",
       "AnyTransplants           7894.2013    521.963     15.124      0.000    6869.902    8918.501\n",
       "AnyChronicDiseases       2654.8864    313.990      8.455      0.000    2038.713    3271.060\n",
       "Height                     -5.8219     11.919     -0.488      0.625     -29.212      17.569\n",
       "Weight                     69.6753      8.428      8.267      0.000      53.137      86.214\n",
       "KnownAllergies            300.8824    295.796      1.017      0.309    -279.587     881.352\n",
       "HistoryOfCancerInFamily  2311.8294    385.373      5.999      0.000    1555.572    3068.086\n",
       "NumberOfMajorSurgeries   -654.1862    186.103     -3.515      0.000   -1019.395    -288.977\n",
       "==============================================================================\n",
       "Omnibus:                      238.003   Durbin-Watson:                   1.996\n",
       "Prob(Omnibus):                  0.000   Jarque-Bera (JB):             1342.106\n",
       "Skew:                           0.981   Prob(JB):                    3.68e-292\n",
       "Kurtosis:                       8.368   Cond. No.                     3.33e+03\n",
       "==============================================================================\n",
       "\n",
       "Notes:\n",
       "[1] Standard Errors assume that the covariance matrix of the errors is correctly specified.\n",
       "[2] The condition number is large, 3.33e+03. This might indicate that there are\n",
       "strong multicollinearity or other numerical problems.\n",
       "\"\"\""
      ]
     },
     "execution_count": 83,
     "metadata": {},
     "output_type": "execute_result"
    }
   ],
   "source": [
    "x = data.drop(columns=['PremiumPrice'])\n",
    "y = data['PremiumPrice']\n",
    "x_c = sma.add_constant(x)\n",
    "\n",
    "model1 = sma.OLS(y,x_c).fit()\n",
    "model1.summary()"
   ]
  },
  {
   "cell_type": "code",
   "execution_count": 8,
   "id": "85864420",
   "metadata": {},
   "outputs": [
    {
     "data": {
      "text/html": [
       "<div>\n",
       "<style scoped>\n",
       "    .dataframe tbody tr th:only-of-type {\n",
       "        vertical-align: middle;\n",
       "    }\n",
       "\n",
       "    .dataframe tbody tr th {\n",
       "        vertical-align: top;\n",
       "    }\n",
       "\n",
       "    .dataframe thead th {\n",
       "        text-align: right;\n",
       "    }\n",
       "</style>\n",
       "<table border=\"1\" class=\"dataframe\">\n",
       "  <thead>\n",
       "    <tr style=\"text-align: right;\">\n",
       "      <th></th>\n",
       "      <th>Feature Names</th>\n",
       "      <th>VIF</th>\n",
       "    </tr>\n",
       "  </thead>\n",
       "  <tbody>\n",
       "    <tr>\n",
       "      <th>5</th>\n",
       "      <td>Height</td>\n",
       "      <td>37.883544</td>\n",
       "    </tr>\n",
       "    <tr>\n",
       "      <th>6</th>\n",
       "      <td>Weight</td>\n",
       "      <td>28.556201</td>\n",
       "    </tr>\n",
       "    <tr>\n",
       "      <th>0</th>\n",
       "      <td>Age</td>\n",
       "      <td>12.914143</td>\n",
       "    </tr>\n",
       "    <tr>\n",
       "      <th>9</th>\n",
       "      <td>NumberOfMajorSurgeries</td>\n",
       "      <td>2.427825</td>\n",
       "    </tr>\n",
       "    <tr>\n",
       "      <th>2</th>\n",
       "      <td>BloodPressureProblems</td>\n",
       "      <td>2.076313</td>\n",
       "    </tr>\n",
       "    <tr>\n",
       "      <th>1</th>\n",
       "      <td>Diabetes</td>\n",
       "      <td>1.856513</td>\n",
       "    </tr>\n",
       "    <tr>\n",
       "      <th>7</th>\n",
       "      <td>KnownAllergies</td>\n",
       "      <td>1.314811</td>\n",
       "    </tr>\n",
       "    <tr>\n",
       "      <th>4</th>\n",
       "      <td>AnyChronicDiseases</td>\n",
       "      <td>1.245678</td>\n",
       "    </tr>\n",
       "    <tr>\n",
       "      <th>8</th>\n",
       "      <td>HistoryOfCancerInFamily</td>\n",
       "      <td>1.222508</td>\n",
       "    </tr>\n",
       "    <tr>\n",
       "      <th>3</th>\n",
       "      <td>AnyTransplants</td>\n",
       "      <td>1.061514</td>\n",
       "    </tr>\n",
       "  </tbody>\n",
       "</table>\n",
       "</div>"
      ],
      "text/plain": [
       "             Feature Names        VIF\n",
       "5                   Height  37.883544\n",
       "6                   Weight  28.556201\n",
       "0                      Age  12.914143\n",
       "9   NumberOfMajorSurgeries   2.427825\n",
       "2    BloodPressureProblems   2.076313\n",
       "1                 Diabetes   1.856513\n",
       "7           KnownAllergies   1.314811\n",
       "4       AnyChronicDiseases   1.245678\n",
       "8  HistoryOfCancerInFamily   1.222508\n",
       "3           AnyTransplants   1.061514"
      ]
     },
     "execution_count": 8,
     "metadata": {},
     "output_type": "execute_result"
    }
   ],
   "source": [
    "# Check VIF for multicollienariry\n",
    "\n",
    "\n",
    "vif_list = []\n",
    "\n",
    "for i in range(x.shape[1]):\n",
    "    vif_list.append(variance_inflation_factor(x.values,i))\n",
    "\n",
    "pd.DataFrame({'Feature Names':x.columns,'VIF':vif_list}).\\\n",
    "sort_values(by='VIF',ascending=False)"
   ]
  },
  {
   "cell_type": "code",
   "execution_count": 9,
   "id": "7e77411b",
   "metadata": {},
   "outputs": [
    {
     "data": {
      "text/plain": [
       "0.23253257382337522"
      ]
     },
     "execution_count": 9,
     "metadata": {},
     "output_type": "execute_result"
    }
   ],
   "source": [
    "# In order deal with multicollinearty we need to remove age,weight and height\n",
    "# Lets check the model without \"Age\"\n",
    "\n",
    "# We can see a significant drop in R2\n",
    "\n",
    "sma.OLS(y,x_c.drop(columns=['Age'])).fit().rsquared"
   ]
  },
  {
   "cell_type": "code",
   "execution_count": 10,
   "id": "b9649574",
   "metadata": {},
   "outputs": [
    {
     "data": {
      "text/plain": [
       "0.6428246828906854"
      ]
     },
     "execution_count": 10,
     "metadata": {},
     "output_type": "execute_result"
    }
   ],
   "source": [
    "# Lets check the model without \"Height\"\n",
    "\n",
    "# We can see almost no drop in R2\n",
    "\n",
    "sma.OLS(y,x_c.drop(columns=['Height'])).fit().rsquared"
   ]
  },
  {
   "cell_type": "code",
   "execution_count": 11,
   "id": "4943d3fa",
   "metadata": {},
   "outputs": [
    {
     "data": {
      "text/plain": [
       "0.6178790404866947"
      ]
     },
     "execution_count": 11,
     "metadata": {},
     "output_type": "execute_result"
    }
   ],
   "source": [
    "# Lets check the model without \"Weight\"\n",
    "\n",
    "# We can see a little drop in R2\n",
    "\n",
    "sma.OLS(y,x_c.drop(columns=['Weight'])).fit().rsquared"
   ]
  },
  {
   "cell_type": "code",
   "execution_count": 12,
   "id": "07c56907",
   "metadata": {},
   "outputs": [
    {
     "data": {
      "text/html": [
       "<div>\n",
       "<style scoped>\n",
       "    .dataframe tbody tr th:only-of-type {\n",
       "        vertical-align: middle;\n",
       "    }\n",
       "\n",
       "    .dataframe tbody tr th {\n",
       "        vertical-align: top;\n",
       "    }\n",
       "\n",
       "    .dataframe thead th {\n",
       "        text-align: right;\n",
       "    }\n",
       "</style>\n",
       "<table border=\"1\" class=\"dataframe\">\n",
       "  <thead>\n",
       "    <tr style=\"text-align: right;\">\n",
       "      <th></th>\n",
       "      <th>Feature Names</th>\n",
       "      <th>VIF</th>\n",
       "    </tr>\n",
       "  </thead>\n",
       "  <tbody>\n",
       "    <tr>\n",
       "      <th>0</th>\n",
       "      <td>Age</td>\n",
       "      <td>10.632014</td>\n",
       "    </tr>\n",
       "    <tr>\n",
       "      <th>5</th>\n",
       "      <td>Weight</td>\n",
       "      <td>8.248741</td>\n",
       "    </tr>\n",
       "    <tr>\n",
       "      <th>8</th>\n",
       "      <td>NumberOfMajorSurgeries</td>\n",
       "      <td>2.406929</td>\n",
       "    </tr>\n",
       "    <tr>\n",
       "      <th>2</th>\n",
       "      <td>BloodPressureProblems</td>\n",
       "      <td>2.067879</td>\n",
       "    </tr>\n",
       "    <tr>\n",
       "      <th>1</th>\n",
       "      <td>Diabetes</td>\n",
       "      <td>1.849300</td>\n",
       "    </tr>\n",
       "    <tr>\n",
       "      <th>6</th>\n",
       "      <td>KnownAllergies</td>\n",
       "      <td>1.309743</td>\n",
       "    </tr>\n",
       "    <tr>\n",
       "      <th>4</th>\n",
       "      <td>AnyChronicDiseases</td>\n",
       "      <td>1.235179</td>\n",
       "    </tr>\n",
       "    <tr>\n",
       "      <th>7</th>\n",
       "      <td>HistoryOfCancerInFamily</td>\n",
       "      <td>1.214707</td>\n",
       "    </tr>\n",
       "    <tr>\n",
       "      <th>3</th>\n",
       "      <td>AnyTransplants</td>\n",
       "      <td>1.060695</td>\n",
       "    </tr>\n",
       "  </tbody>\n",
       "</table>\n",
       "</div>"
      ],
      "text/plain": [
       "             Feature Names        VIF\n",
       "0                      Age  10.632014\n",
       "5                   Weight   8.248741\n",
       "8   NumberOfMajorSurgeries   2.406929\n",
       "2    BloodPressureProblems   2.067879\n",
       "1                 Diabetes   1.849300\n",
       "6           KnownAllergies   1.309743\n",
       "4       AnyChronicDiseases   1.235179\n",
       "7  HistoryOfCancerInFamily   1.214707\n",
       "3           AnyTransplants   1.060695"
      ]
     },
     "execution_count": 12,
     "metadata": {},
     "output_type": "execute_result"
    }
   ],
   "source": [
    "# Lets drop height and chek the VIF again\n",
    "\n",
    "x.drop(columns=['Height'],inplace=True)\n",
    "\n",
    "vif_list = []\n",
    "\n",
    "for i in range(x.shape[1]):\n",
    "    vif_list.append(variance_inflation_factor(x.values,i))\n",
    "\n",
    "pd.DataFrame({'Feature Names':x.columns,'VIF':vif_list}).\\\n",
    "sort_values(by='VIF',ascending=False)"
   ]
  },
  {
   "cell_type": "code",
   "execution_count": 13,
   "id": "71093fbf",
   "metadata": {},
   "outputs": [
    {
     "data": {
      "text/plain": [
       "0.23239683954055979"
      ]
     },
     "execution_count": 13,
     "metadata": {},
     "output_type": "execute_result"
    }
   ],
   "source": [
    "# So still we have multicollinearity in Age and Weight\n",
    "# Lets drop them one by one and sees How it affects the model\n",
    "\n",
    "# Its a significant drop in R2\n",
    "\n",
    "x_c = sma.add_constant(x)\n",
    "\n",
    "sma.OLS(y,x_c.drop(columns=['Age'])).fit().rsquared"
   ]
  },
  {
   "cell_type": "code",
   "execution_count": 14,
   "id": "2a415d79",
   "metadata": {},
   "outputs": [
    {
     "data": {
      "text/plain": [
       "0.617877553695564"
      ]
     },
     "execution_count": 14,
     "metadata": {},
     "output_type": "execute_result"
    }
   ],
   "source": [
    "# Lets check the model without \"Weight\"\n",
    "\n",
    "# We can see a little drop in R2\n",
    "\n",
    "sma.OLS(y,x_c.drop(columns=['Weight'])).fit().rsquared"
   ]
  },
  {
   "cell_type": "code",
   "execution_count": 15,
   "id": "a8f0a0e7",
   "metadata": {},
   "outputs": [
    {
     "data": {
      "text/html": [
       "<div>\n",
       "<style scoped>\n",
       "    .dataframe tbody tr th:only-of-type {\n",
       "        vertical-align: middle;\n",
       "    }\n",
       "\n",
       "    .dataframe tbody tr th {\n",
       "        vertical-align: top;\n",
       "    }\n",
       "\n",
       "    .dataframe thead th {\n",
       "        text-align: right;\n",
       "    }\n",
       "</style>\n",
       "<table border=\"1\" class=\"dataframe\">\n",
       "  <thead>\n",
       "    <tr style=\"text-align: right;\">\n",
       "      <th></th>\n",
       "      <th>Feature Names</th>\n",
       "      <th>VIF</th>\n",
       "    </tr>\n",
       "  </thead>\n",
       "  <tbody>\n",
       "    <tr>\n",
       "      <th>0</th>\n",
       "      <td>Age</td>\n",
       "      <td>4.033684</td>\n",
       "    </tr>\n",
       "    <tr>\n",
       "      <th>7</th>\n",
       "      <td>NumberOfMajorSurgeries</td>\n",
       "      <td>2.337905</td>\n",
       "    </tr>\n",
       "    <tr>\n",
       "      <th>2</th>\n",
       "      <td>BloodPressureProblems</td>\n",
       "      <td>2.064790</td>\n",
       "    </tr>\n",
       "    <tr>\n",
       "      <th>1</th>\n",
       "      <td>Diabetes</td>\n",
       "      <td>1.837525</td>\n",
       "    </tr>\n",
       "    <tr>\n",
       "      <th>5</th>\n",
       "      <td>KnownAllergies</td>\n",
       "      <td>1.265770</td>\n",
       "    </tr>\n",
       "    <tr>\n",
       "      <th>4</th>\n",
       "      <td>AnyChronicDiseases</td>\n",
       "      <td>1.229153</td>\n",
       "    </tr>\n",
       "    <tr>\n",
       "      <th>6</th>\n",
       "      <td>HistoryOfCancerInFamily</td>\n",
       "      <td>1.192143</td>\n",
       "    </tr>\n",
       "    <tr>\n",
       "      <th>3</th>\n",
       "      <td>AnyTransplants</td>\n",
       "      <td>1.055021</td>\n",
       "    </tr>\n",
       "  </tbody>\n",
       "</table>\n",
       "</div>"
      ],
      "text/plain": [
       "             Feature Names       VIF\n",
       "0                      Age  4.033684\n",
       "7   NumberOfMajorSurgeries  2.337905\n",
       "2    BloodPressureProblems  2.064790\n",
       "1                 Diabetes  1.837525\n",
       "5           KnownAllergies  1.265770\n",
       "4       AnyChronicDiseases  1.229153\n",
       "6  HistoryOfCancerInFamily  1.192143\n",
       "3           AnyTransplants  1.055021"
      ]
     },
     "execution_count": 15,
     "metadata": {},
     "output_type": "execute_result"
    }
   ],
   "source": [
    "# Lets drop 'Weight' and check the VIF Again\n",
    "\n",
    "x.drop(columns=['Weight'],inplace=True)\n",
    "\n",
    "vif_list = []\n",
    "\n",
    "for i in range(x.shape[1]):\n",
    "    vif_list.append(variance_inflation_factor(x.values,i))\n",
    "\n",
    "pd.DataFrame({'Feature Names':x.columns,'VIF':vif_list}).\\\n",
    "sort_values(by='VIF',ascending=False)"
   ]
  },
  {
   "cell_type": "code",
   "execution_count": 16,
   "id": "629be5a6",
   "metadata": {},
   "outputs": [],
   "source": [
    "# These columns looks just fine, with no multicollinearity"
   ]
  },
  {
   "cell_type": "code",
   "execution_count": 17,
   "id": "84386538",
   "metadata": {},
   "outputs": [
    {
     "data": {
      "text/html": [
       "<table class=\"simpletable\">\n",
       "<caption>OLS Regression Results</caption>\n",
       "<tr>\n",
       "  <th>Dep. Variable:</th>      <td>PremiumPrice</td>   <th>  R-squared:         </th> <td>   0.618</td> \n",
       "</tr>\n",
       "<tr>\n",
       "  <th>Model:</th>                   <td>OLS</td>       <th>  Adj. R-squared:    </th> <td>   0.615</td> \n",
       "</tr>\n",
       "<tr>\n",
       "  <th>Method:</th>             <td>Least Squares</td>  <th>  F-statistic:       </th> <td>   197.5</td> \n",
       "</tr>\n",
       "<tr>\n",
       "  <th>Date:</th>             <td>Mon, 27 Nov 2023</td> <th>  Prob (F-statistic):</th> <td>3.75e-198</td>\n",
       "</tr>\n",
       "<tr>\n",
       "  <th>Time:</th>                 <td>22:16:07</td>     <th>  Log-Likelihood:    </th> <td> -9542.0</td> \n",
       "</tr>\n",
       "<tr>\n",
       "  <th>No. Observations:</th>      <td>   986</td>      <th>  AIC:               </th> <td>1.910e+04</td>\n",
       "</tr>\n",
       "<tr>\n",
       "  <th>Df Residuals:</th>          <td>   977</td>      <th>  BIC:               </th> <td>1.915e+04</td>\n",
       "</tr>\n",
       "<tr>\n",
       "  <th>Df Model:</th>              <td>     8</td>      <th>                     </th>     <td> </td>    \n",
       "</tr>\n",
       "<tr>\n",
       "  <th>Covariance Type:</th>      <td>nonrobust</td>    <th>                     </th>     <td> </td>    \n",
       "</tr>\n",
       "</table>\n",
       "<table class=\"simpletable\">\n",
       "<tr>\n",
       "             <td></td>                <th>coef</th>     <th>std err</th>      <th>t</th>      <th>P>|t|</th>  <th>[0.025</th>    <th>0.975]</th>  \n",
       "</tr>\n",
       "<tr>\n",
       "  <th>const</th>                   <td> 9932.7064</td> <td>  413.694</td> <td>   24.010</td> <td> 0.000</td> <td> 9120.876</td> <td> 1.07e+04</td>\n",
       "</tr>\n",
       "<tr>\n",
       "  <th>Age</th>                     <td>  329.0877</td> <td>   10.163</td> <td>   32.382</td> <td> 0.000</td> <td>  309.145</td> <td>  349.031</td>\n",
       "</tr>\n",
       "<tr>\n",
       "  <th>Diabetes</th>                <td> -464.3084</td> <td>  259.775</td> <td>   -1.787</td> <td> 0.074</td> <td> -974.090</td> <td>   45.473</td>\n",
       "</tr>\n",
       "<tr>\n",
       "  <th>BloodPressureProblems</th>   <td>   70.7189</td> <td>  260.086</td> <td>    0.272</td> <td> 0.786</td> <td> -439.672</td> <td>  581.110</td>\n",
       "</tr>\n",
       "<tr>\n",
       "  <th>AnyTransplants</th>          <td> 7907.5528</td> <td>  539.075</td> <td>   14.669</td> <td> 0.000</td> <td> 6849.674</td> <td> 8965.432</td>\n",
       "</tr>\n",
       "<tr>\n",
       "  <th>AnyChronicDiseases</th>      <td> 2566.4592</td> <td>  323.917</td> <td>    7.923</td> <td> 0.000</td> <td> 1930.806</td> <td> 3202.113</td>\n",
       "</tr>\n",
       "<tr>\n",
       "  <th>KnownAllergies</th>          <td>  384.0890</td> <td>  305.470</td> <td>    1.257</td> <td> 0.209</td> <td> -215.363</td> <td>  983.541</td>\n",
       "</tr>\n",
       "<tr>\n",
       "  <th>HistoryOfCancerInFamily</th> <td> 2310.1470</td> <td>  398.236</td> <td>    5.801</td> <td> 0.000</td> <td> 1528.650</td> <td> 3091.644</td>\n",
       "</tr>\n",
       "<tr>\n",
       "  <th>NumberOfMajorSurgeries</th>  <td> -645.6286</td> <td>  192.224</td> <td>   -3.359</td> <td> 0.001</td> <td>-1022.849</td> <td> -268.409</td>\n",
       "</tr>\n",
       "</table>\n",
       "<table class=\"simpletable\">\n",
       "<tr>\n",
       "  <th>Omnibus:</th>       <td>237.890</td> <th>  Durbin-Watson:     </th> <td>   1.962</td> \n",
       "</tr>\n",
       "<tr>\n",
       "  <th>Prob(Omnibus):</th> <td> 0.000</td>  <th>  Jarque-Bera (JB):  </th> <td>1123.758</td> \n",
       "</tr>\n",
       "<tr>\n",
       "  <th>Skew:</th>          <td> 1.036</td>  <th>  Prob(JB):          </th> <td>9.53e-245</td>\n",
       "</tr>\n",
       "<tr>\n",
       "  <th>Kurtosis:</th>      <td> 7.802</td>  <th>  Cond. No.          </th> <td>    194.</td> \n",
       "</tr>\n",
       "</table><br/><br/>Notes:<br/>[1] Standard Errors assume that the covariance matrix of the errors is correctly specified."
      ],
      "text/plain": [
       "<class 'statsmodels.iolib.summary.Summary'>\n",
       "\"\"\"\n",
       "                            OLS Regression Results                            \n",
       "==============================================================================\n",
       "Dep. Variable:           PremiumPrice   R-squared:                       0.618\n",
       "Model:                            OLS   Adj. R-squared:                  0.615\n",
       "Method:                 Least Squares   F-statistic:                     197.5\n",
       "Date:                Mon, 27 Nov 2023   Prob (F-statistic):          3.75e-198\n",
       "Time:                        22:16:07   Log-Likelihood:                -9542.0\n",
       "No. Observations:                 986   AIC:                         1.910e+04\n",
       "Df Residuals:                     977   BIC:                         1.915e+04\n",
       "Df Model:                           8                                         \n",
       "Covariance Type:            nonrobust                                         \n",
       "===========================================================================================\n",
       "                              coef    std err          t      P>|t|      [0.025      0.975]\n",
       "-------------------------------------------------------------------------------------------\n",
       "const                    9932.7064    413.694     24.010      0.000    9120.876    1.07e+04\n",
       "Age                       329.0877     10.163     32.382      0.000     309.145     349.031\n",
       "Diabetes                 -464.3084    259.775     -1.787      0.074    -974.090      45.473\n",
       "BloodPressureProblems      70.7189    260.086      0.272      0.786    -439.672     581.110\n",
       "AnyTransplants           7907.5528    539.075     14.669      0.000    6849.674    8965.432\n",
       "AnyChronicDiseases       2566.4592    323.917      7.923      0.000    1930.806    3202.113\n",
       "KnownAllergies            384.0890    305.470      1.257      0.209    -215.363     983.541\n",
       "HistoryOfCancerInFamily  2310.1470    398.236      5.801      0.000    1528.650    3091.644\n",
       "NumberOfMajorSurgeries   -645.6286    192.224     -3.359      0.001   -1022.849    -268.409\n",
       "==============================================================================\n",
       "Omnibus:                      237.890   Durbin-Watson:                   1.962\n",
       "Prob(Omnibus):                  0.000   Jarque-Bera (JB):             1123.758\n",
       "Skew:                           1.036   Prob(JB):                    9.53e-245\n",
       "Kurtosis:                       7.802   Cond. No.                         194.\n",
       "==============================================================================\n",
       "\n",
       "Notes:\n",
       "[1] Standard Errors assume that the covariance matrix of the errors is correctly specified.\n",
       "\"\"\""
      ]
     },
     "execution_count": 17,
     "metadata": {},
     "output_type": "execute_result"
    }
   ],
   "source": [
    "x_c = sma.add_constant(x)\n",
    "\n",
    "model2 = sma.OLS(y,x_c).fit()\n",
    "model2.summary()"
   ]
  },
  {
   "cell_type": "code",
   "execution_count": 18,
   "id": "eb14dd1d",
   "metadata": {},
   "outputs": [],
   "source": [
    "# Check for th other Assumptions\n",
    "# Linerity\n",
    "# Normality\n",
    "# Homoscedasticty\n",
    "# Autocorrelation"
   ]
  },
  {
   "cell_type": "code",
   "execution_count": 19,
   "id": "a0ad5d51",
   "metadata": {},
   "outputs": [
    {
     "data": {
      "image/png": "[encoded data removed]",
      "text/plain": [
       "<Figure size 432x288 with 1 Axes>"
      ]
     },
     "metadata": {
      "needs_background": "light"
     },
     "output_type": "display_data"
    }
   ],
   "source": [
    "# Assumption of Linearity & Homoskedasticity\n",
    "sns.residplot(x=model2.fittedvalues,y=model2.resid,color='m')\n",
    "plt.xlabel('Fitted/ Predicted Values')\n",
    "plt.ylabel('residual')\n",
    "plt.title('Resid Plot')\n",
    "plt.show()"
   ]
  },
  {
   "cell_type": "code",
   "execution_count": 20,
   "id": "a8d8b6fb",
   "metadata": {},
   "outputs": [
    {
     "name": "stdout",
     "output_type": "stream",
     "text": [
      "Reject Ho:\n"
     ]
    }
   ],
   "source": [
    "# Rainbow test for linearity\n",
    "\n",
    "# Ho: Varaibles are linear\n",
    "# Ha: Variables are not linear\n",
    "p_val = linear_rainbow(model2)[1]\n",
    "\n",
    "if p_val <0.05:\n",
    "    print('Reject Ho:')\n",
    "else:\n",
    "    print('Fail to reject Ho:')"
   ]
  },
  {
   "cell_type": "code",
   "execution_count": 21,
   "id": "31884b01",
   "metadata": {},
   "outputs": [
    {
     "name": "stdout",
     "output_type": "stream",
     "text": [
      "6.557300412303008e-14\n",
      "reject Ho:\n"
     ]
    }
   ],
   "source": [
    "# Breusch pagan test\n",
    "\n",
    "# Ho: The variance is same: Homoskedastic\n",
    "# Ha: The variance is not same: Heteresckedastic\n",
    "\n",
    "p_value = sma.stats.diagnostic.het_breuschpagan(resid=model2.resid,exog_het=model2.model.exog)[1]\n",
    "print(p_value)\n",
    "if p_value> 0.05:\n",
    "    print('Fail to reject Ho:')\n",
    "else:\n",
    "    print('reject Ho:')"
   ]
  },
  {
   "cell_type": "code",
   "execution_count": 22,
   "id": "ae8bca4d",
   "metadata": {},
   "outputs": [
    {
     "data": {
      "image/png": "[encoded data removed]",
      "text/plain": [
       "<Figure size 432x288 with 1 Axes>"
      ]
     },
     "metadata": {
      "needs_background": "light"
     },
     "output_type": "display_data"
    }
   ],
   "source": [
    "# Normality\n",
    "\n",
    "stats.probplot(model2.resid,plot=plt)\n",
    "plt.show()"
   ]
  },
  {
   "cell_type": "code",
   "execution_count": 23,
   "id": "2c96b22b",
   "metadata": {},
   "outputs": [
    {
     "name": "stdout",
     "output_type": "stream",
     "text": [
      "2.9753850211729712e-21\n",
      "reject Ho:\n"
     ]
    }
   ],
   "source": [
    "# Shapiro Wilk test (N < 5000)\n",
    "\n",
    "# Ho: The data is normal\n",
    "# ha: The data is not normal\n",
    "\n",
    "p_val = stats.shapiro(model2.resid)[1]\n",
    "print(p_val)\n",
    "if p_val> 0.05:\n",
    "    print('Fail to reject Ho:')\n",
    "else:\n",
    "    print('reject Ho:')"
   ]
  },
  {
   "cell_type": "markdown",
   "id": "83a0d2f6",
   "metadata": {},
   "source": [
    "## Model Validation"
   ]
  },
  {
   "cell_type": "code",
   "execution_count": 24,
   "id": "5df5a598",
   "metadata": {},
   "outputs": [],
   "source": [
    "# Lets do a train test split to validate the model"
   ]
  },
  {
   "cell_type": "code",
   "execution_count": 25,
   "id": "15ec8b79",
   "metadata": {},
   "outputs": [],
   "source": [
    "def validation(test,pred):\n",
    "    print('R2:',r2_score(test,pred))\n",
    "    print('MSE:',mean_squared_error(test,pred))\n",
    "    print('RMSE:',np.sqrt(mean_squared_error(test,pred)))\n",
    "    print('MAE:',mean_absolute_error(test,pred))\n",
    "    print('MAPE:',mean_absolute_percentage_error(test,pred))"
   ]
  },
  {
   "cell_type": "code",
   "execution_count": 26,
   "id": "586da126",
   "metadata": {},
   "outputs": [],
   "source": [
    "x_train,x_test,y_train,y_test = train_test_split(x,y,train_size=0.75,random_state=2)"
   ]
  },
  {
   "cell_type": "code",
   "execution_count": 27,
   "id": "4b27595e",
   "metadata": {},
   "outputs": [
    {
     "name": "stdout",
     "output_type": "stream",
     "text": [
      "(739, 8) (739,) (247, 8) (247,)\n"
     ]
    }
   ],
   "source": [
    "print(x_train.shape,y_train.shape,x_test.shape,y_test.shape)"
   ]
  },
  {
   "cell_type": "code",
   "execution_count": 28,
   "id": "330f4f74",
   "metadata": {},
   "outputs": [],
   "source": [
    "x_train_c = sma.add_constant(x_train)\n",
    "x_test_c = sma.add_constant(x_test)"
   ]
  },
  {
   "cell_type": "code",
   "execution_count": 29,
   "id": "8621afcf",
   "metadata": {},
   "outputs": [
    {
     "data": {
      "text/html": [
       "<table class=\"simpletable\">\n",
       "<caption>OLS Regression Results</caption>\n",
       "<tr>\n",
       "  <th>Dep. Variable:</th>      <td>PremiumPrice</td>   <th>  R-squared:         </th> <td>   0.616</td> \n",
       "</tr>\n",
       "<tr>\n",
       "  <th>Model:</th>                   <td>OLS</td>       <th>  Adj. R-squared:    </th> <td>   0.612</td> \n",
       "</tr>\n",
       "<tr>\n",
       "  <th>Method:</th>             <td>Least Squares</td>  <th>  F-statistic:       </th> <td>   146.3</td> \n",
       "</tr>\n",
       "<tr>\n",
       "  <th>Date:</th>             <td>Mon, 27 Nov 2023</td> <th>  Prob (F-statistic):</th> <td>4.33e-146</td>\n",
       "</tr>\n",
       "<tr>\n",
       "  <th>Time:</th>                 <td>22:16:07</td>     <th>  Log-Likelihood:    </th> <td> -7155.2</td> \n",
       "</tr>\n",
       "<tr>\n",
       "  <th>No. Observations:</th>      <td>   739</td>      <th>  AIC:               </th> <td>1.433e+04</td>\n",
       "</tr>\n",
       "<tr>\n",
       "  <th>Df Residuals:</th>          <td>   730</td>      <th>  BIC:               </th> <td>1.437e+04</td>\n",
       "</tr>\n",
       "<tr>\n",
       "  <th>Df Model:</th>              <td>     8</td>      <th>                     </th>     <td> </td>    \n",
       "</tr>\n",
       "<tr>\n",
       "  <th>Covariance Type:</th>      <td>nonrobust</td>    <th>                     </th>     <td> </td>    \n",
       "</tr>\n",
       "</table>\n",
       "<table class=\"simpletable\">\n",
       "<tr>\n",
       "             <td></td>                <th>coef</th>     <th>std err</th>      <th>t</th>      <th>P>|t|</th>  <th>[0.025</th>    <th>0.975]</th>  \n",
       "</tr>\n",
       "<tr>\n",
       "  <th>const</th>                   <td> 9857.5677</td> <td>  479.350</td> <td>   20.564</td> <td> 0.000</td> <td> 8916.499</td> <td> 1.08e+04</td>\n",
       "</tr>\n",
       "<tr>\n",
       "  <th>Age</th>                     <td>  330.0951</td> <td>   11.847</td> <td>   27.863</td> <td> 0.000</td> <td>  306.837</td> <td>  353.353</td>\n",
       "</tr>\n",
       "<tr>\n",
       "  <th>Diabetes</th>                <td> -405.5956</td> <td>  303.059</td> <td>   -1.338</td> <td> 0.181</td> <td>-1000.566</td> <td>  189.375</td>\n",
       "</tr>\n",
       "<tr>\n",
       "  <th>BloodPressureProblems</th>   <td>  152.3235</td> <td>  301.870</td> <td>    0.505</td> <td> 0.614</td> <td> -440.312</td> <td>  744.960</td>\n",
       "</tr>\n",
       "<tr>\n",
       "  <th>AnyTransplants</th>          <td> 7541.9380</td> <td>  628.764</td> <td>   11.995</td> <td> 0.000</td> <td> 6307.536</td> <td> 8776.340</td>\n",
       "</tr>\n",
       "<tr>\n",
       "  <th>AnyChronicDiseases</th>      <td> 2490.8884</td> <td>  371.056</td> <td>    6.713</td> <td> 0.000</td> <td> 1762.423</td> <td> 3219.354</td>\n",
       "</tr>\n",
       "<tr>\n",
       "  <th>KnownAllergies</th>          <td>  430.2042</td> <td>  363.145</td> <td>    1.185</td> <td> 0.237</td> <td> -282.729</td> <td> 1143.137</td>\n",
       "</tr>\n",
       "<tr>\n",
       "  <th>HistoryOfCancerInFamily</th> <td> 2779.3365</td> <td>  472.858</td> <td>    5.878</td> <td> 0.000</td> <td> 1851.013</td> <td> 3707.660</td>\n",
       "</tr>\n",
       "<tr>\n",
       "  <th>NumberOfMajorSurgeries</th>  <td> -738.8008</td> <td>  226.689</td> <td>   -3.259</td> <td> 0.001</td> <td>-1183.842</td> <td> -293.760</td>\n",
       "</tr>\n",
       "</table>\n",
       "<table class=\"simpletable\">\n",
       "<tr>\n",
       "  <th>Omnibus:</th>       <td>171.220</td> <th>  Durbin-Watson:     </th> <td>   1.927</td> \n",
       "</tr>\n",
       "<tr>\n",
       "  <th>Prob(Omnibus):</th> <td> 0.000</td>  <th>  Jarque-Bera (JB):  </th> <td> 731.716</td> \n",
       "</tr>\n",
       "<tr>\n",
       "  <th>Skew:</th>          <td> 1.004</td>  <th>  Prob(JB):          </th> <td>1.29e-159</td>\n",
       "</tr>\n",
       "<tr>\n",
       "  <th>Kurtosis:</th>      <td> 7.442</td>  <th>  Cond. No.          </th> <td>    193.</td> \n",
       "</tr>\n",
       "</table><br/><br/>Notes:<br/>[1] Standard Errors assume that the covariance matrix of the errors is correctly specified."
      ],
      "text/plain": [
       "<class 'statsmodels.iolib.summary.Summary'>\n",
       "\"\"\"\n",
       "                            OLS Regression Results                            \n",
       "==============================================================================\n",
       "Dep. Variable:           PremiumPrice   R-squared:                       0.616\n",
       "Model:                            OLS   Adj. R-squared:                  0.612\n",
       "Method:                 Least Squares   F-statistic:                     146.3\n",
       "Date:                Mon, 27 Nov 2023   Prob (F-statistic):          4.33e-146\n",
       "Time:                        22:16:07   Log-Likelihood:                -7155.2\n",
       "No. Observations:                 739   AIC:                         1.433e+04\n",
       "Df Residuals:                     730   BIC:                         1.437e+04\n",
       "Df Model:                           8                                         \n",
       "Covariance Type:            nonrobust                                         \n",
       "===========================================================================================\n",
       "                              coef    std err          t      P>|t|      [0.025      0.975]\n",
       "-------------------------------------------------------------------------------------------\n",
       "const                    9857.5677    479.350     20.564      0.000    8916.499    1.08e+04\n",
       "Age                       330.0951     11.847     27.863      0.000     306.837     353.353\n",
       "Diabetes                 -405.5956    303.059     -1.338      0.181   -1000.566     189.375\n",
       "BloodPressureProblems     152.3235    301.870      0.505      0.614    -440.312     744.960\n",
       "AnyTransplants           7541.9380    628.764     11.995      0.000    6307.536    8776.340\n",
       "AnyChronicDiseases       2490.8884    371.056      6.713      0.000    1762.423    3219.354\n",
       "KnownAllergies            430.2042    363.145      1.185      0.237    -282.729    1143.137\n",
       "HistoryOfCancerInFamily  2779.3365    472.858      5.878      0.000    1851.013    3707.660\n",
       "NumberOfMajorSurgeries   -738.8008    226.689     -3.259      0.001   -1183.842    -293.760\n",
       "==============================================================================\n",
       "Omnibus:                      171.220   Durbin-Watson:                   1.927\n",
       "Prob(Omnibus):                  0.000   Jarque-Bera (JB):              731.716\n",
       "Skew:                           1.004   Prob(JB):                    1.29e-159\n",
       "Kurtosis:                       7.442   Cond. No.                         193.\n",
       "==============================================================================\n",
       "\n",
       "Notes:\n",
       "[1] Standard Errors assume that the covariance matrix of the errors is correctly specified.\n",
       "\"\"\""
      ]
     },
     "execution_count": 29,
     "metadata": {},
     "output_type": "execute_result"
    }
   ],
   "source": [
    "model2 = sma.OLS(y_train,x_train_c).fit()\n",
    "model2.summary()"
   ]
  },
  {
   "cell_type": "code",
   "execution_count": 30,
   "id": "ef62d608",
   "metadata": {},
   "outputs": [],
   "source": [
    "train_pred = model2.predict(x_train_c)\n",
    "test_pred = model2.predict(x_test_c)"
   ]
  },
  {
   "cell_type": "code",
   "execution_count": 31,
   "id": "fab470ec",
   "metadata": {},
   "outputs": [
    {
     "name": "stdout",
     "output_type": "stream",
     "text": [
      "R2: 0.6158331679315947\n",
      "MSE: 15045858.126815122\n",
      "RMSE: 3878.8990869594845\n",
      "MAE: 2745.9616782404887\n",
      "MAPE: 0.11761918396370964\n"
     ]
    }
   ],
   "source": [
    "# Training Scores\n",
    "validation(y_train,train_pred)"
   ]
  },
  {
   "cell_type": "code",
   "execution_count": 32,
   "id": "cb0f0c10",
   "metadata": {},
   "outputs": [
    {
     "name": "stdout",
     "output_type": "stream",
     "text": [
      "R2: 0.6204006910811625\n",
      "MSE: 14608460.257263977\n",
      "RMSE: 3822.1015498366833\n",
      "MAE: 2762.9267590117297\n",
      "MAPE: 0.11760862990867395\n"
     ]
    }
   ],
   "source": [
    "# Test Scores\n",
    "validation(y_test,test_pred)"
   ]
  },
  {
   "cell_type": "code",
   "execution_count": 33,
   "id": "bc2161df",
   "metadata": {},
   "outputs": [],
   "source": [
    "# Model is good fit"
   ]
  },
  {
   "cell_type": "markdown",
   "id": "0a15fd7f",
   "metadata": {},
   "source": [
    "### Feature Selection"
   ]
  },
  {
   "cell_type": "code",
   "execution_count": 34,
   "id": "ad3c76ae",
   "metadata": {},
   "outputs": [],
   "source": [
    "## Sequential Feature selection"
   ]
  },
  {
   "cell_type": "code",
   "execution_count": 35,
   "id": "8a3a4484",
   "metadata": {},
   "outputs": [],
   "source": [
    "data = pd.read_csv('Medicalpremium.csv')\n",
    "x=data.drop(columns=['PremiumPrice'])\n",
    "y = data['PremiumPrice']"
   ]
  },
  {
   "cell_type": "code",
   "execution_count": 36,
   "id": "b8dd94b6",
   "metadata": {},
   "outputs": [],
   "source": [
    "lm = LinearRegression()\n",
    "sfs_f = SequentialFeatureSelector(estimator=lm,k_features='best',scoring='r2',cv=3)"
   ]
  },
  {
   "cell_type": "code",
   "execution_count": 37,
   "id": "b9eec8df",
   "metadata": {},
   "outputs": [
    {
     "data": {
      "text/html": [
       "<style>#sk-container-id-1 {color: black;background-color: white;}#sk-container-id-1 pre{padding: 0;}#sk-container-id-1 div.sk-toggleable {background-color: white;}#sk-container-id-1 label.sk-toggleable__label {cursor: pointer;display: block;width: 100%;margin-bottom: 0;padding: 0.3em;box-sizing: border-box;text-align: center;}#sk-container-id-1 label.sk-toggleable__label-arrow:before {content: \"▸\";float: left;margin-right: 0.25em;color: #696969;}#sk-container-id-1 label.sk-toggleable__label-arrow:hover:before {color: black;}#sk-container-id-1 div.sk-estimator:hover label.sk-toggleable__label-arrow:before {color: black;}#sk-container-id-1 div.sk-toggleable__content {max-height: 0;max-width: 0;overflow: hidden;text-align: left;background-color: #f0f8ff;}#sk-container-id-1 div.sk-toggleable__content pre {margin: 0.2em;color: black;border-radius: 0.25em;background-color: #f0f8ff;}#sk-container-id-1 input.sk-toggleable__control:checked~div.sk-toggleable__content {max-height: 200px;max-width: 100%;overflow: auto;}#sk-container-id-1 input.sk-toggleable__control:checked~label.sk-toggleable__label-arrow:before {content: \"▾\";}#sk-container-id-1 div.sk-estimator input.sk-toggleable__control:checked~label.sk-toggleable__label {background-color: #d4ebff;}#sk-container-id-1 div.sk-label input.sk-toggleable__control:checked~label.sk-toggleable__label {background-color: #d4ebff;}#sk-container-id-1 input.sk-hidden--visually {border: 0;clip: rect(1px 1px 1px 1px);clip: rect(1px, 1px, 1px, 1px);height: 1px;margin: -1px;overflow: hidden;padding: 0;position: absolute;width: 1px;}#sk-container-id-1 div.sk-estimator {font-family: monospace;background-color: #f0f8ff;border: 1px dotted black;border-radius: 0.25em;box-sizing: border-box;margin-bottom: 0.5em;}#sk-container-id-1 div.sk-estimator:hover {background-color: #d4ebff;}#sk-container-id-1 div.sk-parallel-item::after {content: \"\";width: 100%;border-bottom: 1px solid gray;flex-grow: 1;}#sk-container-id-1 div.sk-label:hover label.sk-toggleable__label {background-color: #d4ebff;}#sk-container-id-1 div.sk-serial::before {content: \"\";position: absolute;border-left: 1px solid gray;box-sizing: border-box;top: 0;bottom: 0;left: 50%;z-index: 0;}#sk-container-id-1 div.sk-serial {display: flex;flex-direction: column;align-items: center;background-color: white;padding-right: 0.2em;padding-left: 0.2em;position: relative;}#sk-container-id-1 div.sk-item {position: relative;z-index: 1;}#sk-container-id-1 div.sk-parallel {display: flex;align-items: stretch;justify-content: center;background-color: white;position: relative;}#sk-container-id-1 div.sk-item::before, #sk-container-id-1 div.sk-parallel-item::before {content: \"\";position: absolute;border-left: 1px solid gray;box-sizing: border-box;top: 0;bottom: 0;left: 50%;z-index: -1;}#sk-container-id-1 div.sk-parallel-item {display: flex;flex-direction: column;z-index: 1;position: relative;background-color: white;}#sk-container-id-1 div.sk-parallel-item:first-child::after {align-self: flex-end;width: 50%;}#sk-container-id-1 div.sk-parallel-item:last-child::after {align-self: flex-start;width: 50%;}#sk-container-id-1 div.sk-parallel-item:only-child::after {width: 0;}#sk-container-id-1 div.sk-dashed-wrapped {border: 1px dashed gray;margin: 0 0.4em 0.5em 0.4em;box-sizing: border-box;padding-bottom: 0.4em;background-color: white;}#sk-container-id-1 div.sk-label label {font-family: monospace;font-weight: bold;display: inline-block;line-height: 1.2em;}#sk-container-id-1 div.sk-label-container {text-align: center;}#sk-container-id-1 div.sk-container {/* jupyter's `normalize.less` sets `[hidden] { display: none; }` but bootstrap.min.css set `[hidden] { display: none !important; }` so we also need the `!important` here to be able to override the default hidden behavior on the sphinx rendered scikit-learn.org. See: https://github.com/scikit-learn/scikit-learn/issues/21755 */display: inline-block !important;position: relative;}#sk-container-id-1 div.sk-text-repr-fallback {display: none;}</style><div id=\"sk-container-id-1\" class=\"sk-top-container\"><div class=\"sk-text-repr-fallback\"><pre>SequentialFeatureSelector(cv=3, estimator=LinearRegression(),\n",
       "                          k_features=(1, 10), scoring=&#x27;r2&#x27;)</pre><b>In a Jupyter environment, please rerun this cell to show the HTML representation or trust the notebook. <br />On GitHub, the HTML representation is unable to render, please try loading this page with nbviewer.org.</b></div><div class=\"sk-container\" hidden><div class=\"sk-item sk-dashed-wrapped\"><div class=\"sk-label-container\"><div class=\"sk-label sk-toggleable\"><input class=\"sk-toggleable__control sk-hidden--visually\" id=\"sk-estimator-id-1\" type=\"checkbox\" ><label for=\"sk-estimator-id-1\" class=\"sk-toggleable__label sk-toggleable__label-arrow\">SequentialFeatureSelector</label><div class=\"sk-toggleable__content\"><pre>SequentialFeatureSelector(cv=3, estimator=LinearRegression(),\n",
       "                          k_features=(1, 10), scoring=&#x27;r2&#x27;)</pre></div></div></div><div class=\"sk-parallel\"><div class=\"sk-parallel-item\"><div class=\"sk-item\"><div class=\"sk-label-container\"><div class=\"sk-label sk-toggleable\"><input class=\"sk-toggleable__control sk-hidden--visually\" id=\"sk-estimator-id-2\" type=\"checkbox\" ><label for=\"sk-estimator-id-2\" class=\"sk-toggleable__label sk-toggleable__label-arrow\">estimator: LinearRegression</label><div class=\"sk-toggleable__content\"><pre>LinearRegression()</pre></div></div></div><div class=\"sk-serial\"><div class=\"sk-item\"><div class=\"sk-estimator sk-toggleable\"><input class=\"sk-toggleable__control sk-hidden--visually\" id=\"sk-estimator-id-3\" type=\"checkbox\" ><label for=\"sk-estimator-id-3\" class=\"sk-toggleable__label sk-toggleable__label-arrow\">LinearRegression</label><div class=\"sk-toggleable__content\"><pre>LinearRegression()</pre></div></div></div></div></div></div></div></div></div></div>"
      ],
      "text/plain": [
       "SequentialFeatureSelector(cv=3, estimator=LinearRegression(),\n",
       "                          k_features=(1, 10), scoring='r2')"
      ]
     },
     "execution_count": 37,
     "metadata": {},
     "output_type": "execute_result"
    }
   ],
   "source": [
    "sfs_f.fit(x,y)"
   ]
  },
  {
   "cell_type": "code",
   "execution_count": 38,
   "id": "39d17f36",
   "metadata": {},
   "outputs": [
    {
     "data": {
      "text/plain": [
       "0.6403405301119418"
      ]
     },
     "execution_count": 38,
     "metadata": {},
     "output_type": "execute_result"
    }
   ],
   "source": [
    "sfs_f.k_score_"
   ]
  },
  {
   "cell_type": "code",
   "execution_count": 39,
   "id": "97fa16c4",
   "metadata": {},
   "outputs": [
    {
     "data": {
      "text/plain": [
       "('Age',\n",
       " 'Diabetes',\n",
       " 'AnyTransplants',\n",
       " 'AnyChronicDiseases',\n",
       " 'Height',\n",
       " 'Weight',\n",
       " 'HistoryOfCancerInFamily',\n",
       " 'NumberOfMajorSurgeries')"
      ]
     },
     "execution_count": 39,
     "metadata": {},
     "output_type": "execute_result"
    }
   ],
   "source": [
    "sfs_f.k_feature_names_"
   ]
  },
  {
   "cell_type": "code",
   "execution_count": 40,
   "id": "3c9032c0",
   "metadata": {},
   "outputs": [],
   "source": [
    "# rfe feature selection"
   ]
  },
  {
   "cell_type": "code",
   "execution_count": 58,
   "id": "f5641125",
   "metadata": {},
   "outputs": [],
   "source": [
    "rfe_fs = RFECV(estimator=lm,step=2,cv=3)"
   ]
  },
  {
   "cell_type": "code",
   "execution_count": 59,
   "id": "c9d9dfb9",
   "metadata": {},
   "outputs": [
    {
     "data": {
      "text/html": [
       "<style>#sk-container-id-4 {color: black;background-color: white;}#sk-container-id-4 pre{padding: 0;}#sk-container-id-4 div.sk-toggleable {background-color: white;}#sk-container-id-4 label.sk-toggleable__label {cursor: pointer;display: block;width: 100%;margin-bottom: 0;padding: 0.3em;box-sizing: border-box;text-align: center;}#sk-container-id-4 label.sk-toggleable__label-arrow:before {content: \"▸\";float: left;margin-right: 0.25em;color: #696969;}#sk-container-id-4 label.sk-toggleable__label-arrow:hover:before {color: black;}#sk-container-id-4 div.sk-estimator:hover label.sk-toggleable__label-arrow:before {color: black;}#sk-container-id-4 div.sk-toggleable__content {max-height: 0;max-width: 0;overflow: hidden;text-align: left;background-color: #f0f8ff;}#sk-container-id-4 div.sk-toggleable__content pre {margin: 0.2em;color: black;border-radius: 0.25em;background-color: #f0f8ff;}#sk-container-id-4 input.sk-toggleable__control:checked~div.sk-toggleable__content {max-height: 200px;max-width: 100%;overflow: auto;}#sk-container-id-4 input.sk-toggleable__control:checked~label.sk-toggleable__label-arrow:before {content: \"▾\";}#sk-container-id-4 div.sk-estimator input.sk-toggleable__control:checked~label.sk-toggleable__label {background-color: #d4ebff;}#sk-container-id-4 div.sk-label input.sk-toggleable__control:checked~label.sk-toggleable__label {background-color: #d4ebff;}#sk-container-id-4 input.sk-hidden--visually {border: 0;clip: rect(1px 1px 1px 1px);clip: rect(1px, 1px, 1px, 1px);height: 1px;margin: -1px;overflow: hidden;padding: 0;position: absolute;width: 1px;}#sk-container-id-4 div.sk-estimator {font-family: monospace;background-color: #f0f8ff;border: 1px dotted black;border-radius: 0.25em;box-sizing: border-box;margin-bottom: 0.5em;}#sk-container-id-4 div.sk-estimator:hover {background-color: #d4ebff;}#sk-container-id-4 div.sk-parallel-item::after {content: \"\";width: 100%;border-bottom: 1px solid gray;flex-grow: 1;}#sk-container-id-4 div.sk-label:hover label.sk-toggleable__label {background-color: #d4ebff;}#sk-container-id-4 div.sk-serial::before {content: \"\";position: absolute;border-left: 1px solid gray;box-sizing: border-box;top: 0;bottom: 0;left: 50%;z-index: 0;}#sk-container-id-4 div.sk-serial {display: flex;flex-direction: column;align-items: center;background-color: white;padding-right: 0.2em;padding-left: 0.2em;position: relative;}#sk-container-id-4 div.sk-item {position: relative;z-index: 1;}#sk-container-id-4 div.sk-parallel {display: flex;align-items: stretch;justify-content: center;background-color: white;position: relative;}#sk-container-id-4 div.sk-item::before, #sk-container-id-4 div.sk-parallel-item::before {content: \"\";position: absolute;border-left: 1px solid gray;box-sizing: border-box;top: 0;bottom: 0;left: 50%;z-index: -1;}#sk-container-id-4 div.sk-parallel-item {display: flex;flex-direction: column;z-index: 1;position: relative;background-color: white;}#sk-container-id-4 div.sk-parallel-item:first-child::after {align-self: flex-end;width: 50%;}#sk-container-id-4 div.sk-parallel-item:last-child::after {align-self: flex-start;width: 50%;}#sk-container-id-4 div.sk-parallel-item:only-child::after {width: 0;}#sk-container-id-4 div.sk-dashed-wrapped {border: 1px dashed gray;margin: 0 0.4em 0.5em 0.4em;box-sizing: border-box;padding-bottom: 0.4em;background-color: white;}#sk-container-id-4 div.sk-label label {font-family: monospace;font-weight: bold;display: inline-block;line-height: 1.2em;}#sk-container-id-4 div.sk-label-container {text-align: center;}#sk-container-id-4 div.sk-container {/* jupyter's `normalize.less` sets `[hidden] { display: none; }` but bootstrap.min.css set `[hidden] { display: none !important; }` so we also need the `!important` here to be able to override the default hidden behavior on the sphinx rendered scikit-learn.org. See: https://github.com/scikit-learn/scikit-learn/issues/21755 */display: inline-block !important;position: relative;}#sk-container-id-4 div.sk-text-repr-fallback {display: none;}</style><div id=\"sk-container-id-4\" class=\"sk-top-container\"><div class=\"sk-text-repr-fallback\"><pre>RFECV(cv=3, estimator=LinearRegression(), step=2)</pre><b>In a Jupyter environment, please rerun this cell to show the HTML representation or trust the notebook. <br />On GitHub, the HTML representation is unable to render, please try loading this page with nbviewer.org.</b></div><div class=\"sk-container\" hidden><div class=\"sk-item sk-dashed-wrapped\"><div class=\"sk-label-container\"><div class=\"sk-label sk-toggleable\"><input class=\"sk-toggleable__control sk-hidden--visually\" id=\"sk-estimator-id-8\" type=\"checkbox\" ><label for=\"sk-estimator-id-8\" class=\"sk-toggleable__label sk-toggleable__label-arrow\">RFECV</label><div class=\"sk-toggleable__content\"><pre>RFECV(cv=3, estimator=LinearRegression(), step=2)</pre></div></div></div><div class=\"sk-parallel\"><div class=\"sk-parallel-item\"><div class=\"sk-item\"><div class=\"sk-label-container\"><div class=\"sk-label sk-toggleable\"><input class=\"sk-toggleable__control sk-hidden--visually\" id=\"sk-estimator-id-9\" type=\"checkbox\" ><label for=\"sk-estimator-id-9\" class=\"sk-toggleable__label sk-toggleable__label-arrow\">estimator: LinearRegression</label><div class=\"sk-toggleable__content\"><pre>LinearRegression()</pre></div></div></div><div class=\"sk-serial\"><div class=\"sk-item\"><div class=\"sk-estimator sk-toggleable\"><input class=\"sk-toggleable__control sk-hidden--visually\" id=\"sk-estimator-id-10\" type=\"checkbox\" ><label for=\"sk-estimator-id-10\" class=\"sk-toggleable__label sk-toggleable__label-arrow\">LinearRegression</label><div class=\"sk-toggleable__content\"><pre>LinearRegression()</pre></div></div></div></div></div></div></div></div></div></div>"
      ],
      "text/plain": [
       "RFECV(cv=3, estimator=LinearRegression(), step=2)"
      ]
     },
     "execution_count": 59,
     "metadata": {},
     "output_type": "execute_result"
    }
   ],
   "source": [
    "rfe_fs.fit(x,y)"
   ]
  },
  {
   "cell_type": "code",
   "execution_count": 60,
   "id": "467302a9",
   "metadata": {},
   "outputs": [
    {
     "data": {
      "text/plain": [
       "array(['Age', 'Diabetes', 'BloodPressureProblems', 'AnyTransplants',\n",
       "       'AnyChronicDiseases', 'Height', 'Weight', 'KnownAllergies',\n",
       "       'HistoryOfCancerInFamily', 'NumberOfMajorSurgeries'], dtype=object)"
      ]
     },
     "execution_count": 60,
     "metadata": {},
     "output_type": "execute_result"
    }
   ],
   "source": [
    "rfe_fs.get_feature_names_out()"
   ]
  },
  {
   "cell_type": "code",
   "execution_count": 61,
   "id": "91c44886",
   "metadata": {},
   "outputs": [
    {
     "data": {
      "text/plain": [
       "0.6429120588329549"
      ]
     },
     "execution_count": 61,
     "metadata": {},
     "output_type": "execute_result"
    }
   ],
   "source": [
    "rfe_fs.score(x,y)"
   ]
  },
  {
   "cell_type": "code",
   "execution_count": 62,
   "id": "2faddb59",
   "metadata": {},
   "outputs": [],
   "source": [
    "# Lets take sfs columns as final model"
   ]
  },
  {
   "cell_type": "code",
   "execution_count": 63,
   "id": "98244c70",
   "metadata": {},
   "outputs": [],
   "source": [
    "best_cols = list(sfs_f.k_feature_names_)"
   ]
  },
  {
   "cell_type": "code",
   "execution_count": 64,
   "id": "7ece5acd",
   "metadata": {},
   "outputs": [],
   "source": [
    "x_train,x_test,y_train,y_test = train_test_split(x[best_cols],y,train_size=0.75,random_state=2)"
   ]
  },
  {
   "cell_type": "code",
   "execution_count": 65,
   "id": "41127cab",
   "metadata": {},
   "outputs": [],
   "source": [
    "lm = LinearRegression()"
   ]
  },
  {
   "cell_type": "code",
   "execution_count": 66,
   "id": "c978cd46",
   "metadata": {},
   "outputs": [],
   "source": [
    "model3 = lm.fit(x_train,y_train)"
   ]
  },
  {
   "cell_type": "code",
   "execution_count": 67,
   "id": "6db263f5",
   "metadata": {},
   "outputs": [],
   "source": [
    "train_pred = lm.predict(x_train)\n",
    "test_pred = lm.predict(x_test)"
   ]
  },
  {
   "cell_type": "code",
   "execution_count": 68,
   "id": "47f415d8",
   "metadata": {},
   "outputs": [
    {
     "name": "stdout",
     "output_type": "stream",
     "text": [
      "R2: 0.6400979721827182\n",
      "MSE: 14095529.332755309\n",
      "RMSE: 3754.4013281421194\n",
      "MAE: 2667.6421920419884\n",
      "MAPE: 0.11552394022521739\n"
     ]
    }
   ],
   "source": [
    "validation(y_train,train_pred)"
   ]
  },
  {
   "cell_type": "code",
   "execution_count": 69,
   "id": "367f1a1f",
   "metadata": {},
   "outputs": [
    {
     "name": "stdout",
     "output_type": "stream",
     "text": [
      "R2: 0.6447949681308449\n",
      "MSE: 13669673.440712716\n",
      "RMSE: 3697.252147299764\n",
      "MAE: 2679.705432789419\n",
      "MAPE: 0.1145633327208711\n"
     ]
    }
   ],
   "source": [
    "validation(y_test,test_pred)"
   ]
  },
  {
   "cell_type": "markdown",
   "id": "66f1fecd",
   "metadata": {},
   "source": [
    "### Deployement"
   ]
  },
  {
   "cell_type": "code",
   "execution_count": 70,
   "id": "b68b5458",
   "metadata": {},
   "outputs": [],
   "source": [
    "# Lets save the model for deployement"
   ]
  },
  {
   "cell_type": "code",
   "execution_count": 71,
   "id": "d9ff6ca2",
   "metadata": {},
   "outputs": [],
   "source": [
    "final_model = LinearRegression()"
   ]
  },
  {
   "cell_type": "code",
   "execution_count": 72,
   "id": "e39608d5",
   "metadata": {},
   "outputs": [
    {
     "data": {
      "text/html": [
       "<style>#sk-container-id-5 {color: black;background-color: white;}#sk-container-id-5 pre{padding: 0;}#sk-container-id-5 div.sk-toggleable {background-color: white;}#sk-container-id-5 label.sk-toggleable__label {cursor: pointer;display: block;width: 100%;margin-bottom: 0;padding: 0.3em;box-sizing: border-box;text-align: center;}#sk-container-id-5 label.sk-toggleable__label-arrow:before {content: \"▸\";float: left;margin-right: 0.25em;color: #696969;}#sk-container-id-5 label.sk-toggleable__label-arrow:hover:before {color: black;}#sk-container-id-5 div.sk-estimator:hover label.sk-toggleable__label-arrow:before {color: black;}#sk-container-id-5 div.sk-toggleable__content {max-height: 0;max-width: 0;overflow: hidden;text-align: left;background-color: #f0f8ff;}#sk-container-id-5 div.sk-toggleable__content pre {margin: 0.2em;color: black;border-radius: 0.25em;background-color: #f0f8ff;}#sk-container-id-5 input.sk-toggleable__control:checked~div.sk-toggleable__content {max-height: 200px;max-width: 100%;overflow: auto;}#sk-container-id-5 input.sk-toggleable__control:checked~label.sk-toggleable__label-arrow:before {content: \"▾\";}#sk-container-id-5 div.sk-estimator input.sk-toggleable__control:checked~label.sk-toggleable__label {background-color: #d4ebff;}#sk-container-id-5 div.sk-label input.sk-toggleable__control:checked~label.sk-toggleable__label {background-color: #d4ebff;}#sk-container-id-5 input.sk-hidden--visually {border: 0;clip: rect(1px 1px 1px 1px);clip: rect(1px, 1px, 1px, 1px);height: 1px;margin: -1px;overflow: hidden;padding: 0;position: absolute;width: 1px;}#sk-container-id-5 div.sk-estimator {font-family: monospace;background-color: #f0f8ff;border: 1px dotted black;border-radius: 0.25em;box-sizing: border-box;margin-bottom: 0.5em;}#sk-container-id-5 div.sk-estimator:hover {background-color: #d4ebff;}#sk-container-id-5 div.sk-parallel-item::after {content: \"\";width: 100%;border-bottom: 1px solid gray;flex-grow: 1;}#sk-container-id-5 div.sk-label:hover label.sk-toggleable__label {background-color: #d4ebff;}#sk-container-id-5 div.sk-serial::before {content: \"\";position: absolute;border-left: 1px solid gray;box-sizing: border-box;top: 0;bottom: 0;left: 50%;z-index: 0;}#sk-container-id-5 div.sk-serial {display: flex;flex-direction: column;align-items: center;background-color: white;padding-right: 0.2em;padding-left: 0.2em;position: relative;}#sk-container-id-5 div.sk-item {position: relative;z-index: 1;}#sk-container-id-5 div.sk-parallel {display: flex;align-items: stretch;justify-content: center;background-color: white;position: relative;}#sk-container-id-5 div.sk-item::before, #sk-container-id-5 div.sk-parallel-item::before {content: \"\";position: absolute;border-left: 1px solid gray;box-sizing: border-box;top: 0;bottom: 0;left: 50%;z-index: -1;}#sk-container-id-5 div.sk-parallel-item {display: flex;flex-direction: column;z-index: 1;position: relative;background-color: white;}#sk-container-id-5 div.sk-parallel-item:first-child::after {align-self: flex-end;width: 50%;}#sk-container-id-5 div.sk-parallel-item:last-child::after {align-self: flex-start;width: 50%;}#sk-container-id-5 div.sk-parallel-item:only-child::after {width: 0;}#sk-container-id-5 div.sk-dashed-wrapped {border: 1px dashed gray;margin: 0 0.4em 0.5em 0.4em;box-sizing: border-box;padding-bottom: 0.4em;background-color: white;}#sk-container-id-5 div.sk-label label {font-family: monospace;font-weight: bold;display: inline-block;line-height: 1.2em;}#sk-container-id-5 div.sk-label-container {text-align: center;}#sk-container-id-5 div.sk-container {/* jupyter's `normalize.less` sets `[hidden] { display: none; }` but bootstrap.min.css set `[hidden] { display: none !important; }` so we also need the `!important` here to be able to override the default hidden behavior on the sphinx rendered scikit-learn.org. See: https://github.com/scikit-learn/scikit-learn/issues/21755 */display: inline-block !important;position: relative;}#sk-container-id-5 div.sk-text-repr-fallback {display: none;}</style><div id=\"sk-container-id-5\" class=\"sk-top-container\"><div class=\"sk-text-repr-fallback\"><pre>LinearRegression()</pre><b>In a Jupyter environment, please rerun this cell to show the HTML representation or trust the notebook. <br />On GitHub, the HTML representation is unable to render, please try loading this page with nbviewer.org.</b></div><div class=\"sk-container\" hidden><div class=\"sk-item\"><div class=\"sk-estimator sk-toggleable\"><input class=\"sk-toggleable__control sk-hidden--visually\" id=\"sk-estimator-id-11\" type=\"checkbox\" checked><label for=\"sk-estimator-id-11\" class=\"sk-toggleable__label sk-toggleable__label-arrow\">LinearRegression</label><div class=\"sk-toggleable__content\"><pre>LinearRegression()</pre></div></div></div></div></div>"
      ],
      "text/plain": [
       "LinearRegression()"
      ]
     },
     "execution_count": 72,
     "metadata": {},
     "output_type": "execute_result"
    }
   ],
   "source": [
    "final_model.fit(x[best_cols],y)"
   ]
  },
  {
   "cell_type": "code",
   "execution_count": 73,
   "id": "bbfa2794",
   "metadata": {},
   "outputs": [
    {
     "name": "stdout",
     "output_type": "stream",
     "text": [
      "Model saved as 'linear_regression_model.pkl'\n"
     ]
    }
   ],
   "source": [
    "with open('linear_regression_model.pkl', 'wb') as file:\n",
    "    pickle.dump(final_model, file)\n",
    "\n",
    "print(\"Model saved as 'linear_regression_model.pkl'\")"
   ]
  },
  {
   "cell_type": "code",
   "execution_count": 74,
   "id": "e20a57c1",
   "metadata": {},
   "outputs": [
    {
     "data": {
      "text/plain": [
       "['Age',\n",
       " 'Diabetes',\n",
       " 'AnyTransplants',\n",
       " 'AnyChronicDiseases',\n",
       " 'Height',\n",
       " 'Weight',\n",
       " 'HistoryOfCancerInFamily',\n",
       " 'NumberOfMajorSurgeries']"
      ]
     },
     "execution_count": 74,
     "metadata": {},
     "output_type": "execute_result"
    }
   ],
   "source": [
    "best_cols"
   ]
  },
  {
   "cell_type": "code",
   "execution_count": null,
   "id": "acaf1620",
   "metadata": {},
   "outputs": [],
   "source": []
  }
 ],
 "metadata": {
  "kernelspec": {
   "display_name": "Python 3 (ipykernel)",
   "language": "python",
   "name": "python3"
  },
  "language_info": {
   "codemirror_mode": {
    "name": "ipython",
    "version": 3
   },
   "file_extension": ".py",
   "mimetype": "text/x-python",
   "name": "python",
   "nbconvert_exporter": "python",
   "pygments_lexer": "ipython3",
   "version": "3.9.12"
  }
 },
 "nbformat": 4,
 "nbformat_minor": 5
}
