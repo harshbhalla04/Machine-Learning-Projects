{
 "cells": [
  {
   "cell_type": "code",
   "execution_count": 5,
   "id": "ac75d6a8",
   "metadata": {},
   "outputs": [],
   "source": [
    "import gradio as gr\n",
    "import pickle\n",
    "import warnings\n",
    "warnings.filterwarnings('ignore')"
   ]
  },
  {
   "cell_type": "code",
   "execution_count": 6,
   "id": "80005c89",
   "metadata": {},
   "outputs": [],
   "source": [
    "# Load your trained model\n",
    "with open('linear_regression_model.pkl', 'rb') as file:\n",
    "    loaded_model = pickle.load(file)"
   ]
  },
  {
   "cell_type": "code",
   "execution_count": 1,
   "id": "e63b0168",
   "metadata": {},
   "outputs": [],
   "source": [
    "def predict_claim(Age,Diabetes,AnyTransplants,AnyChronicDiseases,Height,Weight,\n",
    "       HistoryOfCancerInFamily,NumberOfMajorSurgeries):\n",
    "    # Prepare the input data in the same format as your training data\n",
    "    input_data = [[Age,Diabetes,AnyTransplants,AnyChronicDiseases,Height,Weight,\n",
    "       HistoryOfCancerInFamily,NumberOfMajorSurgeries]]\n",
    "    \n",
    "    # Make a prediction\n",
    "    prediction = loaded_model.predict(input_data)\n",
    "    \n",
    "    return round(prediction[0],0)"
   ]
  },
  {
   "cell_type": "code",
   "execution_count": 8,
   "id": "deb72e90",
   "metadata": {},
   "outputs": [
    {
     "name": "stdout",
     "output_type": "stream",
     "text": [
      "Running on local URL:  http://127.0.0.1:7861\n",
      "\n",
      "To create a public link, set `share=True` in `launch()`.\n"
     ]
    },
    {
     "data": {
      "text/html": [
       "<div><iframe src=\"http://127.0.0.1:7861/\" width=\"100%\" height=\"500\" allow=\"autoplay; camera; microphone; clipboard-read; clipboard-write;\" frameborder=\"0\" allowfullscreen></iframe></div>"
      ],
      "text/plain": [
       "<IPython.core.display.HTML object>"
      ]
     },
     "metadata": {},
     "output_type": "display_data"
    },
    {
     "data": {
      "text/plain": []
     },
     "execution_count": 8,
     "metadata": {},
     "output_type": "execute_result"
    }
   ],
   "source": [
    "# Create a Gradio interface with customized output label\n",
    "iface = gr.Interface(fn=predict_claim, \n",
    "                     inputs=[gr.Number(label=\"Age\"), \n",
    "                             gr.Number(label=\"Diabetese {0:No,1:yes}\"), \n",
    "                             gr.Number(label=\"Any transplant {0:No,1:yes}\"),\n",
    "                             gr.Number(label=\"Any Chronic disease {0:No,1:yes}\"), \n",
    "                             gr.Number(label=\"Height in cms\"),\n",
    "                             gr.Number(label=\"Weight in Kg\"),\n",
    "                             gr.Number(label=\"History of Cancer in family {0:No,1:yes}\"),\n",
    "                             gr.Number(label=\"No of major surguries\")],\n",
    "                     \n",
    "                     \n",
    "                     \n",
    "                     outputs=gr.Textbox(label=\"Insurance Premium (PA)\"),\n",
    "                     title=\"ABC Medical Insurance\",\n",
    "                     description=\"Enter details to predict the medical Insurance Premium\",\n",
    "                     allow_flagging='auto')  # Set flagging to 'never'\n",
    "\n",
    "# Launch the interface\n",
    "iface.launch()"
   ]
  },
  {
   "cell_type": "code",
   "execution_count": null,
   "id": "e421d2aa",
   "metadata": {},
   "outputs": [],
   "source": []
  }
 ],
 "metadata": {
  "kernelspec": {
   "display_name": "Python 3 (ipykernel)",
   "language": "python",
   "name": "python3"
  },
  "language_info": {
   "codemirror_mode": {
    "name": "ipython",
    "version": 3
   },
   "file_extension": ".py",
   "mimetype": "text/x-python",
   "name": "python",
   "nbconvert_exporter": "python",
   "pygments_lexer": "ipython3",
   "version": "3.9.12"
  }
 },
 "nbformat": 4,
 "nbformat_minor": 5
}
