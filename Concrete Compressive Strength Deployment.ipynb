{
 "cells": [
  {
   "cell_type": "code",
   "execution_count": 1,
   "id": "53be43cd",
   "metadata": {},
   "outputs": [],
   "source": [
    "import gradio as gr\n",
    "import pickle\n",
    "import warnings\n",
    "warnings.filterwarnings('ignore')"
   ]
  },
  {
   "cell_type": "code",
   "execution_count": 2,
   "id": "bb4b093d",
   "metadata": {},
   "outputs": [],
   "source": [
    "# Load your trained model\n",
    "with open('lr_model.pkl', 'rb') as file:\n",
    "    loaded_model = pickle.load(file)"
   ]
  },
  {
   "cell_type": "code",
   "execution_count": 3,
   "id": "ff9524be",
   "metadata": {},
   "outputs": [],
   "source": [
    "def predict_target(blast_furnace_slag,fly_ash,superplasticizer,age,cem_water_ratio):\n",
    "    \n",
    "    # Prepare the input data in the same format as your training data\n",
    "    input_data = [[blast_furnace_slag,fly_ash,superplasticizer,age,cem_water_ratio]]\n",
    "    \n",
    "    # Make a prediction\n",
    "    prediction = loaded_model.predict(input_data)\n",
    "    \n",
    "    return round(prediction[0],2)"
   ]
  },
  {
   "cell_type": "code",
   "execution_count": 4,
   "id": "75f2a6af",
   "metadata": {},
   "outputs": [
    {
     "name": "stdout",
     "output_type": "stream",
     "text": [
      "Running on local URL:  http://127.0.0.1:7860\n",
      "\n",
      "To create a public link, set `share=True` in `launch()`.\n"
     ]
    },
    {
     "data": {
      "text/html": [
       "<div><iframe src=\"http://127.0.0.1:7860/\" width=\"100%\" height=\"500\" allow=\"autoplay; camera; microphone; clipboard-read; clipboard-write;\" frameborder=\"0\" allowfullscreen></iframe></div>"
      ],
      "text/plain": [
       "<IPython.core.display.HTML object>"
      ]
     },
     "metadata": {},
     "output_type": "display_data"
    },
    {
     "data": {
      "text/plain": []
     },
     "execution_count": 4,
     "metadata": {},
     "output_type": "execute_result"
    }
   ],
   "source": [
    "# Create a Gradio interface with customized output label\n",
    "iface = gr.Interface(fn=predict_target, \n",
    "                     inputs=[gr.Number(label=\"Blast Furnce Slag Kg/m3\"), \n",
    "                             gr.Number(label=\"Fly Ash Kg/m3\"), \n",
    "                             gr.Number(label=\"Superplasticiser Kg/m3\"),\n",
    "                             gr.Number(label=\"Age (Days)}\"), \n",
    "                             gr.Number(label=\"Cement to Water Ratio\")],\n",
    "                     \n",
    "                    \n",
    "                     outputs=gr.Textbox(label=\"Concrete Compressive Strength (MPa)\"),\n",
    "                     title=\"ABC Construction Company\",\n",
    "                     description=\"Enter details to predict the compressive strength of concrete\",\n",
    "                    allow_flagging='never')\n",
    "\n",
    "# Launch the interface\n",
    "iface.launch()"
   ]
  },
  {
   "cell_type": "code",
   "execution_count": null,
   "id": "46ec8e82",
   "metadata": {},
   "outputs": [],
   "source": []
  }
 ],
 "metadata": {
  "kernelspec": {
   "display_name": "Python 3 (ipykernel)",
   "language": "python",
   "name": "python3"
  },
  "language_info": {
   "codemirror_mode": {
    "name": "ipython",
    "version": 3
   },
   "file_extension": ".py",
   "mimetype": "text/x-python",
   "name": "python",
   "nbconvert_exporter": "python",
   "pygments_lexer": "ipython3",
   "version": "3.9.12"
  }
 },
 "nbformat": 4,
 "nbformat_minor": 5
}
